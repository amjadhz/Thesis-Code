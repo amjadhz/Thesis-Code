{
 "cells": [
  {
   "cell_type": "markdown",
   "id": "ebeec1d8",
   "metadata": {},
   "source": [
    "# Import Library "
   ]
  },
  {
   "cell_type": "code",
   "execution_count": null,
   "id": "a860d9c3",
   "metadata": {},
   "outputs": [],
   "source": [
    "import pandas as pd\n",
    "import numpy as np\n",
    "import matplotlib.pyplot as plt\n",
    "import seaborn as sns\n",
    "from scipy.stats import chi2_contingency, mannwhitneyu\n",
    "\n",
    "# Load dataset\n",
    "df = pd.read_csv(\"merged_clinical_dataset.csv\")\n",
    "\n",
    "# sns.set(style=\"whitegrid\")\n",
    "# plt.rcParams[\"figure.figsize\"] = (10, 5)\n",
    "\n",
    "df['SurgeryType'] = df['SurgeryType'].fillna(0).astype(int)\n",
    "df['ICU_Type'] = df['ICU_Type'].fillna(0).astype(int)\n",
    "\n",
    "# ==== ICU_ADMISSION COLUMN ====\n",
    "df['ICU_Admission'] = (\n",
    "    (df['Outcome'] == 2) |\n",
    "    (df['SurgeryType'] == 3) |\n",
    "    (df['ICU_Type'].isin([1, 2, 3]))\n",
    ").astype(int)\n"
   ]
  },
  {
   "cell_type": "markdown",
   "id": "4b4d0ab4",
   "metadata": {},
   "source": [
    "# 1. DATASET STRUCTURE \n"
   ]
  },
  {
   "cell_type": "code",
   "execution_count": null,
   "id": "f5f62e3d",
   "metadata": {},
   "outputs": [],
   "source": [
    "print(\"=== Dataset Shape ===\")\n",
    "print(f\"Rows: {df.shape[0]}  |  Columns: {df.shape[1]}\")\n",
    "print(\"\\n=== Variable Types ===\")\n",
    "print(df.dtypes.value_counts())\n",
    "print(\"\\n=== .info() Summary ===\")\n",
    "df.info()\n",
    "print(\"\\n=== Statistical Summary (Numerical Columns) ===\")\n",
    "display(df.describe().transpose())\n",
    "print(\"\\n=== Unique Value Counts (All Columns) ===\")\n",
    "display(df.nunique().sort_values())"
   ]
  },
  {
   "cell_type": "markdown",
   "id": "d4d711e1",
   "metadata": {},
   "source": [
    "# 2. ICU ADMISSION TARGET \n"
   ]
  },
  {
   "cell_type": "code",
   "execution_count": null,
   "id": "c4e9717c",
   "metadata": {},
   "outputs": [],
   "source": [
    "icu_counts = df['ICU_Admission'].value_counts().sort_index()\n",
    "icu_labels = ['Non-ICU', 'ICU']\n",
    "icu_percent = (icu_counts / len(df)) * 100\n",
    "print(\"\\n=== ICU Admission Distribution (Custom Definition) ===\")\n",
    "for label, count, pct in zip(icu_labels, icu_counts, icu_percent):\n",
    "    print(f\"{label}: {count} patients ({pct:.1f}%)\")\n",
    "\n",
    "plt.figure(figsize=(6, 4))\n",
    "sns.barplot(x=icu_labels, y=icu_counts.values, palette='Blues')\n",
    "plt.title(\"ICU Admission Distribution\")\n",
    "plt.ylabel(\"Number of Patients\")\n",
    "\n",
    "# for i, v in enumerate(icu_counts.values):\n",
    "#     plt.text(i, v + 10, f\"{v}\\n({v/df.shape[0]*100:.1f}%)\", ha='center')\n",
    "\n",
    "plt.tight_layout()\n",
    "plt.show()"
   ]
  },
  {
   "cell_type": "markdown",
   "id": "1d4b1cd2",
   "metadata": {},
   "source": [
    "# 3. MISSING VALUE ANALYSIS \n"
   ]
  },
  {
   "cell_type": "code",
   "execution_count": null,
   "id": "a27d11fc",
   "metadata": {},
   "outputs": [],
   "source": [
    "missing = df.isnull().sum()\n",
    "missing_percent = (missing / len(df)) * 100\n",
    "missing_df = pd.DataFrame({'Missing Count': missing, 'Missing %': missing_percent})\n",
    "missing_df = missing_df[missing_df['Missing Count'] > 0].sort_values(by='Missing %', ascending=False)\n",
    "print(\"\\n=== Missing Values (Top Features) ===\")\n",
    "display(missing_df.head(20))\n",
    "plt.figure(figsize=(14, 6))\n",
    "sns.barplot(x=missing_df.index, y=missing_df['Missing %'], color='tomato')\n",
    "plt.xticks(rotation=90)\n",
    "plt.ylabel(\"Missing %\")\n",
    "plt.title(\"Missing Data Percentage by Feature\")\n",
    "# for i, v in enumerate(missing_df['Missing %']):\n",
    "#     plt.text(i, v + 1, f\"{v:.1f}%\", ha='center', fontsize=8)\n",
    "plt.tight_layout()\n",
    "plt.show()"
   ]
  },
  {
   "cell_type": "markdown",
   "id": "24c651b3",
   "metadata": {},
   "source": [
    "# 4. DEMOGRAPHICS: AGE, SEX, ASA, and surgery \n"
   ]
  },
  {
   "cell_type": "code",
   "execution_count": null,
   "id": "08314e89",
   "metadata": {},
   "outputs": [],
   "source": [
    "# Create ICU label\n",
    "df['ICU_Label'] = df['ICU_Admission'].map({0: \"Non-ICU\", 1: \"ICU\"})\n",
    "\n",
    "# Split the data\n",
    "df_non_icu = df[df['ICU_Label'] == \"Non-ICU\"]\n",
    "df_icu = df[df['ICU_Label'] == \"ICU\"]\n",
    "\n",
    "# Create side-by-side plots manually\n",
    "fig, axes = plt.subplots(2, 1, figsize=(6, 6), sharey=True)\n",
    "\n",
    "# Non-ICU plot\n",
    "sns.kdeplot(data=df_non_icu, x=\"Age\", fill=True, color=\"green\", ax=axes[0])\n",
    "axes[0].set_title(\"Age Distribution: Non-ICU\")\n",
    "axes[0].set_xlabel(\"Age\")\n",
    "axes[0].set_ylabel(\"Density\")\n",
    "\n",
    "# ICU plot\n",
    "sns.kdeplot(data=df_icu, x=\"Age\", fill=True, color=\"red\", ax=axes[1])\n",
    "axes[1].set_title(\"Age Distribution: ICU\")\n",
    "axes[1].set_xlabel(\"Age\")\n",
    "axes[1].set_ylabel(\"Density\")\n",
    "axes[1].yaxis.set_tick_params(labelleft=True)\n",
    "\n",
    "plt.tight_layout()\n",
    "plt.show()\n",
    "\n",
    "df['SurgeryType'] = df['SurgeryType'].replace({\n",
    "    0: 'No Surgery',\n",
    "    1: 'Planned',\n",
    "    2: 'Unplanned',\n",
    "    3: 'Emergency',\n",
    "})\n",
    "\n",
    "# === Grouped Barplots for Categorical Variables (Side-by-Side) ===\n",
    "cat_vars = ['Sex', 'ASA_Score', 'SurgeryType', 'ICU_Type']\n",
    "for var in cat_vars:\n",
    "    plt.figure(figsize=(6, 4))\n",
    "    sns.countplot(data=df, x=var, hue=\"ICU_Admission\", palette=[\"skyblue\", \"orange\"])\n",
    "    plt.title(f\"{var} by ICU Admission\")\n",
    "    plt.xlabel(var)\n",
    "    plt.ylabel(\"Patient Count\")\n",
    "    plt.legend(title=\"ICU Admission\", labels=[\"Non-ICU\", \"ICU\"])\n",
    "    plt.tight_layout()\n",
    "    plt.show()\n"
   ]
  },
  {
   "cell_type": "markdown",
   "id": "a85a5c9c",
   "metadata": {},
   "source": [
    "# 5. STATISTICAL TESTS\n"
   ]
  },
  {
   "cell_type": "code",
   "execution_count": null,
   "id": "e30cb31a",
   "metadata": {},
   "outputs": [],
   "source": [
    "print(\"\\n=== Mann-Whitney U Tests ===\")\n",
    "for col in ['Age', 'BMI']:\n",
    "    group1 = df[df['ICU_Admission'] == 0][col].dropna()\n",
    "    group2 = df[df['ICU_Admission'] == 1][col].dropna()\n",
    "    stat, p = mannwhitneyu(group1, group2, alternative='two-sided')\n",
    "    print(f\"{col}: U={stat:.2f}, p-value={p:.4f}\")\n",
    "\n",
    "print(\"\\n=== Chi-Square Tests ===\")\n",
    "for col in cat_vars:\n",
    "    contingency = pd.crosstab(df[col], df['ICU_Admission'])\n",
    "    chi2, p, dof, expected = chi2_contingency(contingency)\n",
    "    print(f\"{col}: chi²={chi2:.2f}, p-value={p:.4f}\")"
   ]
  },
  {
   "cell_type": "markdown",
   "id": "1386190e",
   "metadata": {},
   "source": [
    "# 6. CORRELATION ANALYSIS\n"
   ]
  },
  {
   "cell_type": "code",
   "execution_count": null,
   "id": "c11ff47f",
   "metadata": {},
   "outputs": [],
   "source": [
    "correlations = df.corr(numeric_only=True)['ICU_Admission'].sort_values(key=abs, ascending=False)\n",
    "lists_corr = [correlations[1:21], correlations[21:42], correlations[42:63], correlations[63:]]\n",
    "\n",
    "# Plot each group\n",
    "for i, top_corr in enumerate(lists_corr, 1):\n",
    "    print(f\"\\n=== Top Correlated Features with ICU Admission (Group {i}) ===\")\n",
    "    display(top_corr)\n",
    "\n",
    "    plt.figure(figsize=(10, 8))\n",
    "    sns.barplot(x=top_corr.values, y=top_corr.index, palette='coolwarm')\n",
    "    plt.title(\"Top Correlated Features with ICU Admission\")\n",
    "    plt.xlabel(\"Correlation\")\n",
    "    plt.tight_layout()\n",
    "    plt.show()"
   ]
  },
  {
   "cell_type": "markdown",
   "id": "98106d49",
   "metadata": {},
   "source": [
    "# 7. ADVANCED VISUALIZATIONS \n"
   ]
  },
  {
   "cell_type": "code",
   "execution_count": null,
   "id": "20fe7168",
   "metadata": {},
   "outputs": [],
   "source": [
    "import textwrap\n",
    "\n",
    "# ==== 7. DIAGNOSIS GROUP ANALYSIS ====\n",
    "df['AgeGroup'] = pd.cut(df['Age'], bins=[0, 40, 60, 80, 120], labels=[\"<40\", \"40-60\", \"60-80\", \"80+\"])\n",
    "df['SurgeryLabel'] = df['SurgeryType'].map({1: \"Planned\", 2: \"Unplanned\", 3: \"Emergency\", 0: \"No Surgery\"})\n",
    "df['SexLabel'] = df['Sex'].map({2: 'Male', 1: 'Female'})\n",
    "diag_cols = [col for col in df.columns if col.startswith(\"diagnosis_group\")]\n",
    "\n",
    "# Clean Label formatting function\n",
    "def clean_label(col):\n",
    "    return '\\n'.join(textwrap.wrap(col.replace('diagnosis_group_', '').replace('_', ' ').title(), 25))\n",
    "\n",
    "def format_autopct(pct):\n",
    "    total = sum(values)\n",
    "    count = int(round(pct * total / 100.0))\n",
    "    return f'{pct:.1f}%\\n({count})'\n",
    "\n",
    "# === Diagnosis × ICU × Sex (Horizontal Barplots) ===\n",
    "plot_data_sex = df.melt(id_vars=['ICU_Admission', 'SexLabel'], value_vars=diag_cols, var_name='Diagnosis', value_name='Present')\n",
    "plot_data_sex = plot_data_sex[plot_data_sex['Present'] == 1]\n",
    "plot_data_sex['Diagnosis'] = plot_data_sex['Diagnosis'].apply(clean_label)\n",
    "\n",
    "for sex in plot_data_sex['SexLabel'].dropna().unique():\n",
    "    plt.figure(figsize=(10, 8))\n",
    "    subset = plot_data_sex[plot_data_sex['SexLabel'] == sex]\n",
    "    sns.countplot(data=subset, y='Diagnosis', hue='ICU_Admission', palette='Set1', order=subset['Diagnosis'].value_counts().index)\n",
    "    plt.title(f\"Diagnosis Group by ICU Admission × Sex: {sex}\")\n",
    "    plt.xlabel(\"Patient Count\")\n",
    "    plt.ylabel(\"Diagnosis Group\")\n",
    "    plt.legend(title=\"ICU Admission\", labels=[\"Non-ICU\", \"ICU\"], loc='upper left', bbox_to_anchor=(1, 1))\n",
    "    plt.tight_layout()\n",
    "    plt.show()\n",
    "\n",
    "# === Diagnosis × ICU × AgeGroup (Horizontal Barplots) ===\n",
    "plot_data_age = df.melt(id_vars=['ICU_Admission', 'AgeGroup'], value_vars=diag_cols, var_name='Diagnosis', value_name='Present')\n",
    "plot_data_age = plot_data_age[plot_data_age['Present'] == 1]\n",
    "plot_data_age['Diagnosis'] = plot_data_age['Diagnosis'].apply(clean_label)\n",
    "\n",
    "for age in plot_data_age['AgeGroup'].dropna().unique():\n",
    "    plt.figure(figsize=(10, 8))\n",
    "    subset = plot_data_age[plot_data_age['AgeGroup'] == age]\n",
    "    sns.countplot(data=subset, y='Diagnosis', hue='ICU_Admission', palette='coolwarm', order=subset['Diagnosis'].value_counts().index)\n",
    "    plt.title(f\"Diagnosis Group by ICU Admission × Age Group: {age}\")\n",
    "    plt.xlabel(\"Patient Count\")\n",
    "    plt.ylabel(\"Diagnosis Group\")\n",
    "    plt.legend(title=\"ICU Admission\", labels=[\"Non-ICU\", \"ICU\"], loc='upper left', bbox_to_anchor=(1, 1))\n",
    "    plt.tight_layout()\n",
    "    plt.show()\n",
    "\n",
    "# === Surgery Type × ICU (stacked %) ===\n",
    "surg_ct = pd.crosstab(df['SurgeryLabel'], df['ICU_Admission'], normalize='index') * 100\n",
    "surg_ct.plot(kind='bar', stacked=True, color=['skyblue', 'orange'], figsize=(6, 4))\n",
    "plt.title(\"ICU Admission by Surgery Type\")\n",
    "plt.ylabel(\"Percentage of Patients\")\n",
    "plt.xticks(rotation=0)\n",
    "plt.legend(['Non-ICU', 'ICU'], loc='upper left', bbox_to_anchor=(1, 1))\n",
    "plt.tight_layout()\n",
    "plt.show()\n",
    "\n",
    "# === Pie Charts per Diagnosis Group ===\n",
    "pie_data = df[['ICU_Admission'] + diag_cols]\n",
    "cols = 3\n",
    "rows = (len(diag_cols) + 1) // cols\n",
    "\n",
    "fig, axes = plt.subplots(rows, cols, figsize=(14, rows * 4))\n",
    "axes = axes.flatten()\n",
    "\n",
    "for i, diag in enumerate(diag_cols):\n",
    "    counts = pie_data[pie_data[diag] == 1]['ICU_Admission'].value_counts().sort_index()\n",
    "    values = [counts.get(0, 0), counts.get(1, 0)]\n",
    "    labels = ['Non-ICU', 'ICU']\n",
    "    axes[i].pie(values, labels=labels, autopct=format_autopct, startangle=90,\n",
    "                colors=['skyblue', 'salmon'], textprops={'fontsize': 9})\n",
    "    axes[i].set_title(clean_label(diag), fontsize=11)\n",
    "\n",
    "# Remove unused axes\n",
    "for j in range(i + 1, len(axes)):\n",
    "    fig.delaxes(axes[j])\n",
    "\n",
    "plt.suptitle(\"ICU vs Non-ICU Distribution per Diagnosis Group\", fontsize=16)\n",
    "plt.tight_layout(rect=[0.03, 0.03, 1, 0.97])\n",
    "plt.show()\n"
   ]
  },
  {
   "cell_type": "code",
   "execution_count": null,
   "id": "2e261fcc",
   "metadata": {},
   "outputs": [],
   "source": [
    "df.to_csv('to_preperation_phase.csv', index=False)"
   ]
  }
 ],
 "metadata": {
  "language_info": {
   "name": "python"
  }
 },
 "nbformat": 4,
 "nbformat_minor": 5
}
