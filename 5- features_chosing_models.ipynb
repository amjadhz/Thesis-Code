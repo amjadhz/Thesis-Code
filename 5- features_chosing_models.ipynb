{
 "cells": [
  {
   "cell_type": "code",
   "execution_count": null,
   "id": "0f5eee2e",
   "metadata": {},
   "outputs": [],
   "source": [
    "import pandas as pd\n",
    "from sklearn.model_selection import train_test_split\n",
    "from sklearn.metrics import confusion_matrix\n",
    "from sklearn.linear_model import LogisticRegression\n",
    "from sklearn.ensemble import RandomForestClassifier\n",
    "from xgboost import XGBClassifier\n",
    "from imblearn.over_sampling import SMOTE"
   ]
  },
  {
   "cell_type": "markdown",
   "id": "259fb03d",
   "metadata": {},
   "source": [
    "# === 1. Load your dataset ===\n"
   ]
  },
  {
   "cell_type": "code",
   "execution_count": null,
   "id": "5f4b6bc9",
   "metadata": {},
   "outputs": [],
   "source": [
    "df = pd.read_csv(\"your_dataset.csv\")  # Replace with your actual file\n"
   ]
  },
  {
   "cell_type": "markdown",
   "id": "65c0ec52",
   "metadata": {},
   "source": [
    "# === 2. Define feature sets (BMI is excluded) ===\n"
   ]
  },
  {
   "cell_type": "code",
   "execution_count": null,
   "id": "d36bdb31",
   "metadata": {},
   "outputs": [],
   "source": [
    "vitals_mean_60 = ['SysBp_mean_60', 'DiasBp_mean_60', 'MapBp_mean_60',\n",
    "                  'HR_mean_60', 'RR_mean_60', 'SpO2_mean_60', 'Temp_mean_60']\n",
    "\n",
    "vitals_extremes = ['SysBp_min_60', 'DiasBp_min_60', 'MapBp_min_60',\n",
    "                   'SysBp_max_60', 'DiasBp_max_60', 'MapBp_max_60',\n",
    "                   'SysBp_90p_60', 'DiasBp_90p_60', 'MapBp_90p_60',\n",
    "                   'HR_min_60', 'HR_max_60', 'HR_90p_60',\n",
    "                   'RR_min_60', 'RR_max_60', 'RR_90p_60',\n",
    "                   'SpO2_min_60', 'SpO2_max_60', 'SpO2_90p_60']\n",
    "\n",
    "vitals_mean_short = ['SysBp_mean_15', 'DiasBp_mean_15', 'MapBp_mean_15',\n",
    "                     'HR_mean_15', 'RR_mean_15', 'SpO2_mean_15',\n",
    "                     'SysBp_mean_30', 'DiasBp_mean_30', 'MapBp_mean_30',\n",
    "                     'HR_mean_30', 'RR_mean_30', 'SpO2_mean_30']\n",
    "\n",
    "vitals_combined = vitals_mean_60 + vitals_extremes + vitals_mean_short\n",
    "demographic_features = ['Age', 'ASA', 'SexLabel']\n",
    "diagnosis_surgery = ['DiagnosisGroup', 'SurgeryType']\n",
    "\n",
    "feature_sets = {\n",
    "    \"Vitals_Mean_Only\": vitals_mean_60,\n",
    "    \"Vitals_Extremes_Only\": vitals_extremes,\n",
    "    \"Vitals_Short_Term\": vitals_mean_short,\n",
    "    \"Vitals_Combined\": vitals_combined,\n",
    "    \"Vitals_+_Demographics\": vitals_mean_60 + demographic_features,\n",
    "    \"Vitals_+_Diag_+_Surg\": vitals_mean_60 + diagnosis_surgery,\n",
    "    \"All_Features\": vitals_combined + demographic_features + diagnosis_surgery\n",
    "}"
   ]
  },
  {
   "cell_type": "markdown",
   "id": "414b08a2",
   "metadata": {},
   "source": [
    "# === 3. Define models ===\n"
   ]
  },
  {
   "cell_type": "code",
   "execution_count": null,
   "id": "d1131695",
   "metadata": {},
   "outputs": [],
   "source": [
    "models = {\n",
    "    \"Logistic\": LogisticRegression(max_iter=1000),\n",
    "    \"RandomForest\": RandomForestClassifier(n_estimators=100, random_state=42),\n",
    "    \"XGBoost\": XGBClassifier(use_label_encoder=False, eval_metric='logloss')\n",
    "}"
   ]
  },
  {
   "cell_type": "markdown",
   "id": "f1502d37",
   "metadata": {},
   "source": [
    "# === 4. Evaluation Function ===\n"
   ]
  },
  {
   "cell_type": "code",
   "execution_count": null,
   "id": "37b7f09f",
   "metadata": {},
   "outputs": [],
   "source": [
    "def evaluate_model(X, y, model, apply_smote=False):\n",
    "    X_train, X_test, y_train, y_test = train_test_split(X, y, test_size=0.2, random_state=42)\n",
    "\n",
    "    if apply_smote:\n",
    "        sm = SMOTE(random_state=42)\n",
    "        X_train, y_train = sm.fit_resample(X_train, y_train)\n",
    "\n",
    "    model.fit(X_train, y_train)\n",
    "    y_pred = model.predict(X_test)\n",
    "    tn, fp, fn, tp = confusion_matrix(y_test, y_pred).ravel()\n",
    "    return tn, fp, fn, tp"
   ]
  },
  {
   "cell_type": "markdown",
   "id": "61785ee7",
   "metadata": {},
   "source": [
    "# === 5. Run evaluation for each model and feature set ===\n"
   ]
  },
  {
   "cell_type": "code",
   "execution_count": null,
   "id": "69eb6ca6",
   "metadata": {},
   "outputs": [],
   "source": [
    "def run_experiment(apply_smote=False):\n",
    "    results = []\n",
    "    for feature_name, features in feature_sets.items():\n",
    "        X = df[features].copy()\n",
    "        y = df['ICU']  # replace with actual ICU column name\n",
    "\n",
    "        for model_name, model in models.items():\n",
    "            try:\n",
    "                tn, fp, fn, tp = evaluate_model(X, y, model, apply_smote)\n",
    "                results.append({\n",
    "                    'Model': model_name,\n",
    "                    'Feature_Set': feature_name,\n",
    "                    'SMOTE': apply_smote,\n",
    "                    'TN': tn,\n",
    "                    'FP': fp,\n",
    "                    'FN': fn,\n",
    "                    'TP': tp\n",
    "                })\n",
    "            except Exception as e:\n",
    "                results.append({\n",
    "                    'Model': model_name,\n",
    "                    'Feature_Set': feature_name,\n",
    "                    'SMOTE': apply_smote,\n",
    "                    'TN': None,\n",
    "                    'FP': None,\n",
    "                    'FN': None,\n",
    "                    'TP': None,\n",
    "                    'Error': str(e)\n",
    "                })\n",
    "    return pd.DataFrame(results)"
   ]
  },
  {
   "cell_type": "markdown",
   "id": "9b0065b3",
   "metadata": {},
   "source": [
    "# === 6. Run both versions ===\n"
   ]
  },
  {
   "cell_type": "code",
   "execution_count": null,
   "id": "e3709ed4",
   "metadata": {},
   "outputs": [],
   "source": [
    "results_no_smote = run_experiment(apply_smote=False)\n",
    "results_smote = run_experiment(apply_smote=True)"
   ]
  },
  {
   "cell_type": "markdown",
   "id": "e353677d",
   "metadata": {},
   "source": [
    "# === 7. Combine and show summary ===\n"
   ]
  },
  {
   "cell_type": "code",
   "execution_count": null,
   "id": "1b9b1fc8",
   "metadata": {},
   "outputs": [],
   "source": [
    "final_results = pd.concat([results_no_smote, results_smote], ignore_index=True)\n",
    "print(final_results)\n",
    "final_results.sort_values(by=['TP', 'FP']).to_csv('results.csv', index=False)"
   ]
  }
 ],
 "metadata": {
  "language_info": {
   "name": "python"
  }
 },
 "nbformat": 4,
 "nbformat_minor": 5
}
