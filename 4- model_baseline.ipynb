{
 "cells": [
  {
   "cell_type": "markdown",
   "id": "a1fcb1de",
   "metadata": {},
   "source": [
    "# Step 1: Import libraries\n"
   ]
  },
  {
   "cell_type": "code",
   "execution_count": null,
   "id": "0c61bf41",
   "metadata": {},
   "outputs": [],
   "source": [
    "import pandas as pd\n",
    "from sklearn.model_selection import train_test_split\n",
    "from sklearn.linear_model import LogisticRegression\n",
    "from sklearn.metrics import classification_report, confusion_matrix, roc_auc_score, ConfusionMatrixDisplay\n",
    "from imblearn.over_sampling import SMOTE\n",
    "from sklearn.preprocessing import StandardScaler\n",
    "\n",
    "\n"
   ]
  },
  {
   "cell_type": "markdown",
   "id": "199a9035",
   "metadata": {},
   "source": [
    "# Step 2: Define X and y\n"
   ]
  },
  {
   "cell_type": "code",
   "execution_count": null,
   "id": "a6ca14ba",
   "metadata": {},
   "outputs": [],
   "source": [
    "# Assume 'ICU_Admission' is your target and all others are features\n",
    "X = df.drop(columns=['ICU_Admission'])\n",
    "y = df['ICU_Admission']\n",
    "\n",
    "# Optional: scale features (especially for logistic regression)\n",
    "scaler = StandardScaler()\n",
    "X_scaled = scaler.fit_transform(X)\n",
    "\n"
   ]
  },
  {
   "cell_type": "markdown",
   "id": "4b6e43a5",
   "metadata": {},
   "source": [
    "# Step 3: Train-test split (use stratify to preserve class ratio)\n"
   ]
  },
  {
   "cell_type": "code",
   "execution_count": null,
   "id": "253c6ebf",
   "metadata": {},
   "outputs": [],
   "source": [
    "X_train, X_test, y_train, y_test = train_test_split(\n",
    "    X_scaled, y, test_size=0.2, random_state=42, stratify=y\n",
    ")\n"
   ]
  },
  {
   "cell_type": "markdown",
   "id": "1fed8184",
   "metadata": {},
   "source": [
    "# Step 4: Handle imbalance with SMOTE (on training set only!)\n"
   ]
  },
  {
   "cell_type": "code",
   "execution_count": null,
   "id": "dae392a2",
   "metadata": {},
   "outputs": [],
   "source": [
    "smote = SMOTE(random_state=42)\n",
    "X_train_resampled, y_train_resampled = smote.fit_resample(X_train, y_train)\n"
   ]
  },
  {
   "cell_type": "markdown",
   "id": "70e692c0",
   "metadata": {},
   "source": [
    "# Step 5: Train a baseline Logistic Regression model\n"
   ]
  },
  {
   "cell_type": "code",
   "execution_count": null,
   "id": "45b3c5b5",
   "metadata": {},
   "outputs": [],
   "source": [
    "model = LogisticRegression(random_state=42, class_weight=None)  # class_weight=None since we used SMOTE\n",
    "model.fit(X_train_resampled, y_train_resampled)"
   ]
  },
  {
   "cell_type": "markdown",
   "id": "47f89c42",
   "metadata": {},
   "source": [
    "# Step 6: Make predictions\n"
   ]
  },
  {
   "cell_type": "code",
   "execution_count": null,
   "id": "fd0b7aa7",
   "metadata": {},
   "outputs": [],
   "source": [
    "y_pred = model.predict(X_test)\n",
    "y_proba = model.predict_proba(X_test)[:, 1]"
   ]
  },
  {
   "cell_type": "markdown",
   "id": "39b1047c",
   "metadata": {},
   "source": [
    "# Step 7: Evaluate the model\n"
   ]
  },
  {
   "cell_type": "code",
   "execution_count": null,
   "id": "37efe7f4",
   "metadata": {},
   "outputs": [],
   "source": [
    "print(\"Classification Report:\\n\", classification_report(y_test, y_pred))\n",
    "print(\"ROC AUC Score:\", roc_auc_score(y_test, y_proba))"
   ]
  },
  {
   "cell_type": "markdown",
   "id": "151fd29f",
   "metadata": {},
   "source": [
    "# Step 8: Confusion matrix\n"
   ]
  },
  {
   "cell_type": "code",
   "execution_count": null,
   "id": "fbd18952",
   "metadata": {},
   "outputs": [],
   "source": [
    "cm = confusion_matrix(y_test, y_pred)\n",
    "ConfusionMatrixDisplay(confusion_matrix=cm, display_labels=['No ICU', 'ICU']).plot()"
   ]
  }
 ],
 "metadata": {
  "language_info": {
   "name": "python"
  }
 },
 "nbformat": 4,
 "nbformat_minor": 5
}
