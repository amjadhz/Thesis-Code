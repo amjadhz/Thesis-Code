{
 "cells": [
  {
   "cell_type": "code",
   "execution_count": null,
   "id": "f790c098",
   "metadata": {},
   "outputs": [],
   "source": [
    "import pandas as pd\n",
    "import numpy as np\n",
    "from sklearn.impute import KNNImputer"
   ]
  },
  {
   "cell_type": "markdown",
   "id": "9a693bc2",
   "metadata": {},
   "source": [
    "# === 1. Load Dataset ===\n"
   ]
  },
  {
   "cell_type": "code",
   "execution_count": null,
   "id": "4ba9c425",
   "metadata": {},
   "outputs": [],
   "source": [
    "df = pd.read_csv(\"to_prepareation_phase.csv\").drop(columns=['AdmissionTime', 'AgeGroup', 'BMI'])\n",
    "df['Participant_Id'] = df['Participant_Id'].astype(str)"
   ]
  },
  {
   "cell_type": "markdown",
   "id": "89bb2b40",
   "metadata": {},
   "source": [
    "# === 2. Handle Vital Sign Outliers and Missing Values ===\n"
   ]
  },
  {
   "cell_type": "code",
   "execution_count": null,
   "id": "607ed6dc",
   "metadata": {},
   "outputs": [],
   "source": [
    "vital_prefixes = ['HeartRate_', 'PulseRate_', 'BreathingRate_', 'SpO2_', 'SkinTemp_', 'SysBp_', 'DiasBp_', 'MapBp_']\n",
    "vital_cols = [col for col in df.columns if any(col.startswith(prefix) for prefix in vital_prefixes)]\n",
    "\n",
    "# IQR-based outlier removal\n",
    "for col in vital_cols:\n",
    "    q1 = df[col].quantile(0.25)\n",
    "    q3 = df[col].quantile(0.75)\n",
    "    iqr = q3 - q1\n",
    "    lower_bound = q1 - 1.5 * iqr\n",
    "    upper_bound = q3 + 1.5 * iqr\n",
    "    df[col] = df[col].mask((df[col] < lower_bound) | (df[col] > upper_bound), np.nan)\n",
    "\n",
    "# KNN imputation (k=5)\n",
    "knn_imputer = KNNImputer(n_neighbors=5)\n",
    "df[vital_cols] = knn_imputer.fit_transform(df[vital_cols])\n"
   ]
  },
  {
   "cell_type": "markdown",
   "id": "9aca4723",
   "metadata": {},
   "source": [
    "# === 3. One-Hot Encoding for Categorical Columns ===\n"
   ]
  },
  {
   "cell_type": "code",
   "execution_count": null,
   "id": "b9425fb0",
   "metadata": {},
   "outputs": [],
   "source": [
    "df = pd.get_dummies(df, columns=['SexLabel', 'SurgeryLabel'])\n"
   ]
  },
  {
   "cell_type": "markdown",
   "id": "42913d53",
   "metadata": {},
   "source": [
    "# === 4. Fix ASA Score column ===\n"
   ]
  },
  {
   "cell_type": "code",
   "execution_count": null,
   "id": "8d342767",
   "metadata": {},
   "outputs": [],
   "source": [
    "asa_map = {\n",
    "    1.0 : 'Healthy_patient',\n",
    "    2.0 : 'Mild_systemic_disease',\n",
    "    3.0 : 'Severe_systemic_disease',\n",
    "    4.0 : 'Constant_life_threat',\n",
    "    5.0 : 'Moribund_patient'\n",
    "}\n",
    "\n",
    "age_bins = [0, 40, 55, 70, 85, 100]\n",
    "age_labels = ['<40', '40-55', '55-70', '70-85', '85+']\n",
    "df['Age_Group'] = pd.cut(df['Age'], bins=age_bins, labels=age_labels, right=False)\n",
    "df['Age_Group'].value_counts()\n",
    "\n",
    "df['BMI_category'] = df.apply(categorize_bmi, axis=1)\n",
    "df['ASA_Score'] = df['ASA_Score'].replace(asa_map).astype('category')\n",
    "\n",
    "df = pd.get_dummies(df, columns=['SexLabel', 'SurgeryLabel', 'ASA_Score', 'BMI_category', 'Age_Group'], dtype='int')\n"
   ]
  },
  {
   "cell_type": "markdown",
   "id": "efbeae95",
   "metadata": {},
   "source": [
    "# === 5. Drop Columns Not Used in Modeling ===\n"
   ]
  },
  {
   "cell_type": "code",
   "execution_count": null,
   "id": "5982d966",
   "metadata": {},
   "outputs": [],
   "source": [
    "drop_cols = [\n",
    "    'Outcome',           # Already used to define ICU_Admission\n",
    "    'ICU_Type',          # Redundant with ICU_Admission\n",
    "    'ICU_Label',         # Same as ICU_Admission\n",
    "    'Sex',               # Already encoded via SexLabel\n",
    "    'SurgeryType'        # Already encoded via SurgeryLabel\n",
    "]\n",
    "df = df.drop(columns=drop_cols)"
   ]
  },
  {
   "cell_type": "markdown",
   "id": "6a1e8c48",
   "metadata": {},
   "source": [
    "# === 6. Save Prepared Data ===\n"
   ]
  },
  {
   "cell_type": "code",
   "execution_count": null,
   "id": "b223bfab",
   "metadata": {},
   "outputs": [],
   "source": [
    "df.to_csv(\"prepared_clinical_dataset.csv\", index=False)\n",
    "print(\"✅ Data preparation completed and saved to 'prepared_clinical_dataset.csv'\")"
   ]
  }
 ],
 "metadata": {
  "language_info": {
   "name": "python"
  }
 },
 "nbformat": 4,
 "nbformat_minor": 5
}
