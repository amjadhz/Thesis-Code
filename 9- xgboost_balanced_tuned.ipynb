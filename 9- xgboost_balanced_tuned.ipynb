{
 "cells": [
  {
   "cell_type": "markdown",
   "id": "554061ec",
   "metadata": {},
   "source": [
    "# 1. Imports & Data Loading\n"
   ]
  },
  {
   "cell_type": "code",
   "execution_count": null,
   "id": "d21c4939",
   "metadata": {},
   "outputs": [],
   "source": [
    "# ICU Admission Prediction: Multi-Model Comparison with SMOTE (XGBoost Only)\n",
    "\n",
    "import pandas as pd\n",
    "import numpy as np\n",
    "from sklearn.model_selection import train_test_split\n",
    "from sklearn.metrics import classification_report, confusion_matrix, ConfusionMatrixDisplay, roc_auc_score, RocCurveDisplay\n",
    "from sklearn.preprocessing import StandardScaler\n",
    "from imblearn.over_sampling import SMOTE\n",
    "from xgboost import XGBClassifier\n",
    "import matplotlib.pyplot as plt\n",
    "import warnings\n",
    "warnings.filterwarnings(\"ignore\")\n",
    "\n",
    "# Load dataset\n",
    "df = pd.read_csv(\"prepared_clinical_dataset.csv\")\n"
   ]
  },
  {
   "cell_type": "markdown",
   "id": "dc0e6af2",
   "metadata": {},
   "source": [
    "#  2. Feature Selection, Preprocessing & SMOTE"
   ]
  },
  {
   "cell_type": "code",
   "execution_count": null,
   "id": "ebcd9e79",
   "metadata": {},
   "outputs": [],
   "source": [
    "X = df[[\n",
    "    'HeartRate_mean_15m', 'BreathingRate_mean_15m', 'SpO2_mean_15m', 'SkinTemp_mean_15m', 'SysBp_mean_15m', 'DiasBp_mean_15m', 'MapBp_mean_15m',\n",
    "    'HeartRate_mean_30m', 'BreathingRate_mean_30m', 'SpO2_mean_30m', 'SkinTemp_mean_30m', 'SysBp_mean_30m', 'DiasBp_mean_30m', 'MapBp_mean_30m',\n",
    "    'HeartRate_min_60m', 'HeartRate_max_60m', 'HeartRate_p90_60m',\n",
    "    'BreathingRate_min_60m', 'BreathingRate_max_60m', 'BreathingRate_p90_60m',\n",
    "    'SpO2_min_60m', 'SpO2_max_60m', 'SpO2_p90_60m',\n",
    "    'SkinTemp_min_60m', 'SkinTemp_max_60m', 'SkinTemp_p90_60m',\n",
    "    'SysBp_min_60m', 'SysBp_max_60m', 'SysBp_p90_60m',\n",
    "    'DiasBp_min_60m', 'DiasBp_max_60m', 'DiasBp_p90_60m',\n",
    "    'MapBp_min_60m', 'MapBp_max_60m', 'MapBp_p90_60m',\n",
    "    'diagnosis_group_blood_diseases', 'diagnosis_group_circulatory_system', 'diagnosis_group_congenital_abnormalities', 'diagnosis_group_digestive_system',\n",
    "    'diagnosis_group_ear_diseases', 'diagnosis_group_endocrine_diseases', 'diagnosis_group_external_causes', 'diagnosis_group_eye_diseases',\n",
    "    'diagnosis_group_genitourinary_diseases', 'diagnosis_group_health_status_contact', 'diagnosis_group_infectious_diseases',\n",
    "    'diagnosis_group_injury_poisoning', 'diagnosis_group_mental_disorders', 'diagnosis_group_musculoskeletal_diseases',\n",
    "    'diagnosis_group_neoplasms', 'diagnosis_group_nervous_system', 'diagnosis_group_perinatal_conditions',\n",
    "    'diagnosis_group_pregnancy_childbirth', 'diagnosis_group_respiratory_system', 'diagnosis_group_skin_diseases',\n",
    "    'diagnosis_group_symptoms_not_classified', 'SexLabel_Male', 'SurgeryLabel_Emergency', 'SurgeryLabel_Planned', 'SurgeryLabel_Unplanned'\n",
    "]]\n",
    "y = df['ICU_Admission']\n",
    "\n",
    "# Clean column names\n",
    "X.columns = X.columns.str.replace(r'[\\[\\]<>]', '_', regex=True)\n",
    "\n",
    "# Scale features\n",
    "scaler = StandardScaler()\n",
    "X_scaled = pd.DataFrame(scaler.fit_transform(X), columns=X.columns)\n",
    "\n",
    "# Train-test split\n",
    "X_train, X_test, y_train, y_test = train_test_split(X_scaled, y, test_size=0.3, random_state=42, stratify=y)\n",
    "\n",
    "# Apply SMOTE to address class imbalance\n",
    "smote = SMOTE(random_state=42)\n",
    "X_train_resampled, y_train_resampled = smote.fit_resample(X_train, y_train)\n"
   ]
  },
  {
   "cell_type": "markdown",
   "id": "533b5f09",
   "metadata": {},
   "source": [
    "# 3. Train & Evaluate XGBoost"
   ]
  },
  {
   "cell_type": "code",
   "execution_count": null,
   "id": "e300dbc5",
   "metadata": {},
   "outputs": [],
   "source": [
    "xgb = XGBClassifier(\n",
    "    use_label_encoder=False,\n",
    "    eval_metric='logloss',\n",
    "    classifier__subsample=1.0,\n",
    "    classifier__reg_lambda=5,\n",
    "    classifier__reg_alpha=1,\n",
    "    classifier__n_estimators=100,\n",
    "    classifier__max_depth=7,\n",
    "    classifier__learning_rate=0.1,\n",
    "    classifier__gamma=0.5,\n",
    "    classifier__colsample_bytree=1.0\n",
    ")\n",
    "\n",
    "xgb.fit(X_train_resampled, y_train_resampled)\n",
    "y_pred_xgb = xgb.predict(X_test)\n",
    "\n",
    "# Save results\n",
    "results = {}\n",
    "predictions = {}\n",
    "results['XGBoost'] = classification_report(y_test, y_pred_xgb, output_dict=True)\n",
    "predictions['XGBoost'] = y_pred_xgb\n"
   ]
  },
  {
   "cell_type": "markdown",
   "id": "44657372",
   "metadata": {},
   "source": [
    "# 4. Display Metrics: Classification Report, ROC, Confusion Matrix"
   ]
  },
  {
   "cell_type": "code",
   "execution_count": null,
   "id": "2fae7548",
   "metadata": {},
   "outputs": [],
   "source": [
    "# Classification Report (nicely printed)\n",
    "print(\"\\n=== XGBoost ===\")\n",
    "print(pd.DataFrame(results['XGBoost']).T)\n",
    "\n",
    "# ROC Curve\n",
    "y_score = xgb.predict_proba(X_test)[:, 1]\n",
    "auc = roc_auc_score(y_test, y_score)\n",
    "\n",
    "plt.figure(figsize=(8, 6))\n",
    "RocCurveDisplay.from_predictions(y_test, y_score, name=\"XGBoost\", color=\"purple\")\n",
    "plt.title(\"ROC Curve for XGBoost\")\n",
    "plt.legend(loc=\"lower right\")\n",
    "plt.grid(True)\n",
    "plt.tight_layout()\n",
    "plt.show()\n",
    "\n",
    "# Confusion Matrix\n",
    "cm = confusion_matrix(y_test, predictions['XGBoost'])\n",
    "tn, fp, fn, tp = cm.ravel()\n",
    "\n",
    "confusion_table = pd.DataFrame({'TN': [tn], 'FP': [fp], 'FN': [fn], 'TP': [tp]})\n",
    "print(confusion_table)\n",
    "\n",
    "disp = ConfusionMatrixDisplay(confusion_matrix=cm, display_labels=['No ICU', 'ICU'])\n",
    "disp.plot()\n",
    "plt.title(\"Confusion Matrix - XGBoost\")\n",
    "plt.grid(False)\n",
    "plt.show()\n"
   ]
  },
  {
   "cell_type": "markdown",
   "id": "6764772b",
   "metadata": {},
   "source": [
    "# 5. Feature Importance Plot"
   ]
  },
  {
   "cell_type": "code",
   "execution_count": null,
   "id": "6f96af32",
   "metadata": {},
   "outputs": [],
   "source": [
    "plt.figure(figsize=(10, 12))\n",
    "plt.barh(X.columns, xgb.feature_importances_)\n",
    "plt.title(\"XGBoost Feature Importance\")\n",
    "plt.show()\n"
   ]
  }
 ],
 "metadata": {
  "language_info": {
   "name": "python"
  }
 },
 "nbformat": 4,
 "nbformat_minor": 5
}
